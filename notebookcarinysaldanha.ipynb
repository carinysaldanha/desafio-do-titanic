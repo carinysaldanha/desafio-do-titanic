{
 "cells": [
  {
   "cell_type": "code",
   "execution_count": 1,
   "id": "149bad4b",
   "metadata": {
    "execution": {
     "iopub.execute_input": "2025-06-12T12:37:52.374392Z",
     "iopub.status.busy": "2025-06-12T12:37:52.373263Z",
     "iopub.status.idle": "2025-06-12T12:38:02.817514Z",
     "shell.execute_reply": "2025-06-12T12:38:02.816326Z"
    },
    "id": "00bc922b",
    "papermill": {
     "duration": 10.451136,
     "end_time": "2025-06-12T12:38:02.819627",
     "exception": false,
     "start_time": "2025-06-12T12:37:52.368491",
     "status": "completed"
    },
    "tags": []
   },
   "outputs": [],
   "source": [
    "# Instalar bibliotecas (caso necessário)\n",
    "!pip install pandas numpy matplotlib seaborn scikit-learn --quiet\n",
    "\n",
    "# Importação das bibliotecas\n",
    "import pandas as pd\n",
    "import numpy as np\n",
    "import matplotlib.pyplot as plt\n",
    "import seaborn as sns\n",
    "from sklearn.model_selection import cross_val_score, GridSearchCV\n",
    "from sklearn.ensemble import RandomForestClassifier\n",
    "from sklearn.preprocessing import StandardScaler\n",
    "from sklearn.metrics import accuracy_score\n",
    "from google.colab import drive"
   ]
  },
  {
   "cell_type": "code",
   "execution_count": 2,
   "id": "4bf17e8d",
   "metadata": {
    "execution": {
     "iopub.execute_input": "2025-06-12T12:38:02.827323Z",
     "iopub.status.busy": "2025-06-12T12:38:02.826665Z",
     "iopub.status.idle": "2025-06-12T12:38:02.904614Z",
     "shell.execute_reply": "2025-06-12T12:38:02.903382Z"
    },
    "id": "95e14a11",
    "outputId": "6254c240-67df-4191-ab6e-282614b6a6de",
    "papermill": {
     "duration": 0.083752,
     "end_time": "2025-06-12T12:38:02.906663",
     "exception": false,
     "start_time": "2025-06-12T12:38:02.822911",
     "status": "completed"
    },
    "tags": []
   },
   "outputs": [
    {
     "data": {
      "text/html": [
       "<div>\n",
       "<style scoped>\n",
       "    .dataframe tbody tr th:only-of-type {\n",
       "        vertical-align: middle;\n",
       "    }\n",
       "\n",
       "    .dataframe tbody tr th {\n",
       "        vertical-align: top;\n",
       "    }\n",
       "\n",
       "    .dataframe thead th {\n",
       "        text-align: right;\n",
       "    }\n",
       "</style>\n",
       "<table border=\"1\" class=\"dataframe\">\n",
       "  <thead>\n",
       "    <tr style=\"text-align: right;\">\n",
       "      <th></th>\n",
       "      <th>PassengerId</th>\n",
       "      <th>Survived</th>\n",
       "      <th>Pclass</th>\n",
       "      <th>Name</th>\n",
       "      <th>Sex</th>\n",
       "      <th>Age</th>\n",
       "      <th>SibSp</th>\n",
       "      <th>Parch</th>\n",
       "      <th>Ticket</th>\n",
       "      <th>Fare</th>\n",
       "      <th>Cabin</th>\n",
       "      <th>Embarked</th>\n",
       "    </tr>\n",
       "  </thead>\n",
       "  <tbody>\n",
       "    <tr>\n",
       "      <th>0</th>\n",
       "      <td>1</td>\n",
       "      <td>0</td>\n",
       "      <td>3</td>\n",
       "      <td>Braund, Mr. Owen Harris</td>\n",
       "      <td>male</td>\n",
       "      <td>22.0</td>\n",
       "      <td>1</td>\n",
       "      <td>0</td>\n",
       "      <td>A/5 21171</td>\n",
       "      <td>7.2500</td>\n",
       "      <td>NaN</td>\n",
       "      <td>S</td>\n",
       "    </tr>\n",
       "    <tr>\n",
       "      <th>1</th>\n",
       "      <td>2</td>\n",
       "      <td>1</td>\n",
       "      <td>1</td>\n",
       "      <td>Cumings, Mrs. John Bradley (Florence Briggs Th...</td>\n",
       "      <td>female</td>\n",
       "      <td>38.0</td>\n",
       "      <td>1</td>\n",
       "      <td>0</td>\n",
       "      <td>PC 17599</td>\n",
       "      <td>71.2833</td>\n",
       "      <td>C85</td>\n",
       "      <td>C</td>\n",
       "    </tr>\n",
       "    <tr>\n",
       "      <th>2</th>\n",
       "      <td>3</td>\n",
       "      <td>1</td>\n",
       "      <td>3</td>\n",
       "      <td>Heikkinen, Miss. Laina</td>\n",
       "      <td>female</td>\n",
       "      <td>26.0</td>\n",
       "      <td>0</td>\n",
       "      <td>0</td>\n",
       "      <td>STON/O2. 3101282</td>\n",
       "      <td>7.9250</td>\n",
       "      <td>NaN</td>\n",
       "      <td>S</td>\n",
       "    </tr>\n",
       "    <tr>\n",
       "      <th>3</th>\n",
       "      <td>4</td>\n",
       "      <td>1</td>\n",
       "      <td>1</td>\n",
       "      <td>Futrelle, Mrs. Jacques Heath (Lily May Peel)</td>\n",
       "      <td>female</td>\n",
       "      <td>35.0</td>\n",
       "      <td>1</td>\n",
       "      <td>0</td>\n",
       "      <td>113803</td>\n",
       "      <td>53.1000</td>\n",
       "      <td>C123</td>\n",
       "      <td>S</td>\n",
       "    </tr>\n",
       "    <tr>\n",
       "      <th>4</th>\n",
       "      <td>5</td>\n",
       "      <td>0</td>\n",
       "      <td>3</td>\n",
       "      <td>Allen, Mr. William Henry</td>\n",
       "      <td>male</td>\n",
       "      <td>35.0</td>\n",
       "      <td>0</td>\n",
       "      <td>0</td>\n",
       "      <td>373450</td>\n",
       "      <td>8.0500</td>\n",
       "      <td>NaN</td>\n",
       "      <td>S</td>\n",
       "    </tr>\n",
       "  </tbody>\n",
       "</table>\n",
       "</div>"
      ],
      "text/plain": [
       "   PassengerId  Survived  Pclass  \\\n",
       "0            1         0       3   \n",
       "1            2         1       1   \n",
       "2            3         1       3   \n",
       "3            4         1       1   \n",
       "4            5         0       3   \n",
       "\n",
       "                                                Name     Sex   Age  SibSp  \\\n",
       "0                            Braund, Mr. Owen Harris    male  22.0      1   \n",
       "1  Cumings, Mrs. John Bradley (Florence Briggs Th...  female  38.0      1   \n",
       "2                             Heikkinen, Miss. Laina  female  26.0      0   \n",
       "3       Futrelle, Mrs. Jacques Heath (Lily May Peel)  female  35.0      1   \n",
       "4                           Allen, Mr. William Henry    male  35.0      0   \n",
       "\n",
       "   Parch            Ticket     Fare Cabin Embarked  \n",
       "0      0         A/5 21171   7.2500   NaN        S  \n",
       "1      0          PC 17599  71.2833   C85        C  \n",
       "2      0  STON/O2. 3101282   7.9250   NaN        S  \n",
       "3      0            113803  53.1000  C123        S  \n",
       "4      0            373450   8.0500   NaN        S  "
      ]
     },
     "execution_count": 2,
     "metadata": {},
     "output_type": "execute_result"
    }
   ],
   "source": [
    "import pandas as pd\n",
    "\n",
    "# Caminho dos arquivos após upload no Kaggle\n",
    "train = pd.read_csv('/kaggle/input/titanicdados/traincariny (1).csv')\n",
    "test = pd.read_csv('/kaggle/input/titanicdados/testecariny (1).csv')\n",
    "\n",
    "# Visualizar as primeiras linhas\n",
    "train.head()\n"
   ]
  },
  {
   "cell_type": "code",
   "execution_count": 3,
   "id": "e1456330",
   "metadata": {
    "execution": {
     "iopub.execute_input": "2025-06-12T12:38:02.915433Z",
     "iopub.status.busy": "2025-06-12T12:38:02.914389Z",
     "iopub.status.idle": "2025-06-12T12:38:03.515371Z",
     "shell.execute_reply": "2025-06-12T12:38:03.513988Z"
    },
    "id": "dbcee1ec",
    "outputId": "d376fc5c-9b32-435e-eb7c-c52fc8d0e850",
    "papermill": {
     "duration": 0.607442,
     "end_time": "2025-06-12T12:38:03.517451",
     "exception": false,
     "start_time": "2025-06-12T12:38:02.910009",
     "status": "completed"
    },
    "tags": []
   },
   "outputs": [
    {
     "data": {
      "image/png": "[encoded data removed]",
      "text/plain": [
       "<Figure size 640x480 with 1 Axes>"
      ]
     },
     "metadata": {},
     "output_type": "display_data"
    },
    {
     "data": {
      "image/png": "[encoded data removed]",
      "text/plain": [
       "<Figure size 640x480 with 1 Axes>"
      ]
     },
     "metadata": {},
     "output_type": "display_data"
    },
    {
     "data": {
      "image/png": "[encoded data removed]",
      "text/plain": [
       "<Figure size 640x480 with 1 Axes>"
      ]
     },
     "metadata": {},
     "output_type": "display_data"
    },
    {
     "name": "stdout",
     "output_type": "stream",
     "text": [
      "       PassengerId    Survived      Pclass         Age       SibSp  \\\n",
      "count   891.000000  891.000000  891.000000  714.000000  891.000000   \n",
      "mean    446.000000    0.383838    2.308642   29.699118    0.523008   \n",
      "std     257.353842    0.486592    0.836071   14.526497    1.102743   \n",
      "min       1.000000    0.000000    1.000000    0.420000    0.000000   \n",
      "25%     223.500000    0.000000    2.000000   20.125000    0.000000   \n",
      "50%     446.000000    0.000000    3.000000   28.000000    0.000000   \n",
      "75%     668.500000    1.000000    3.000000   38.000000    1.000000   \n",
      "max     891.000000    1.000000    3.000000   80.000000    8.000000   \n",
      "\n",
      "            Parch        Fare  \n",
      "count  891.000000  891.000000  \n",
      "mean     0.381594   32.204208  \n",
      "std      0.806057   49.693429  \n",
      "min      0.000000    0.000000  \n",
      "25%      0.000000    7.910400  \n",
      "50%      0.000000   14.454200  \n",
      "75%      0.000000   31.000000  \n",
      "max      6.000000  512.329200  \n"
     ]
    }
   ],
   "source": [
    "import pandas as pd\n",
    "import seaborn as sns\n",
    "import matplotlib.pyplot as plt\n",
    "\n",
    "# Caminho corrigido\n",
    "train = pd.read_csv('/kaggle/input/titanicdados/traincariny (1).csv')\n",
    "\n",
    "# Gráfico: Distribuição de sobreviventes\n",
    "sns.countplot(data=train, x='Survived')\n",
    "plt.title('Distribuição de Sobreviventes')\n",
    "plt.show()\n",
    "\n",
    "# Gráfico: Sobrevivência por sexo\n",
    "sns.countplot(data=train, x='Sex', hue='Survived')\n",
    "plt.title('Sobrevivência por Sexo')\n",
    "plt.show()\n",
    "\n",
    "# Gráfico: Sobrevivência por classe\n",
    "sns.countplot(data=train, x='Pclass', hue='Survived')\n",
    "plt.title('Sobrevivência por Classe')\n",
    "plt.show()\n",
    "\n",
    "# Estatísticas descritivas\n",
    "print(train.describe())\n"
   ]
  },
  {
   "cell_type": "code",
   "execution_count": 4,
   "id": "0b19c0af",
   "metadata": {
    "execution": {
     "iopub.execute_input": "2025-06-12T12:38:03.528928Z",
     "iopub.status.busy": "2025-06-12T12:38:03.527885Z",
     "iopub.status.idle": "2025-06-12T12:38:03.544930Z",
     "shell.execute_reply": "2025-06-12T12:38:03.543965Z"
    },
    "id": "c37abfac",
    "outputId": "53ea79e8-ba20-4937-bd68-930c0631a708",
    "papermill": {
     "duration": 0.024117,
     "end_time": "2025-06-12T12:38:03.546489",
     "exception": false,
     "start_time": "2025-06-12T12:38:03.522372",
     "status": "completed"
    },
    "tags": []
   },
   "outputs": [
    {
     "name": "stdout",
     "output_type": "stream",
     "text": [
      "Pré-processamento concluído.\n"
     ]
    }
   ],
   "source": [
    "# Preenchimento de valores ausentes com verificação de existência das colunas\n",
    "if 'Age' in train.columns:\n",
    "    train['Age'] = train['Age'].fillna(train['Age'].median())\n",
    "if 'Embarked' in train.columns:\n",
    "    train['Embarked'] = train['Embarked'].fillna('S')\n",
    "if 'Age' in test.columns:\n",
    "    test['Age'] = test['Age'].fillna(test['Age'].median())\n",
    "if 'Fare' in test.columns:\n",
    "    test['Fare'] = test['Fare'].fillna(test['Fare'].median())\n",
    "\n",
    "# Engenharia de atributos\n",
    "for df in [train, test]:\n",
    "    if 'SibSp' in df.columns and 'Parch' in df.columns:\n",
    "        df['FamilySize'] = df['SibSp'] + df['Parch'] + 1\n",
    "    if 'Cabin' in df.columns:\n",
    "        df['Has_Cabin'] = df['Cabin'].notnull().astype(int)\n",
    "    if 'Sex' in df.columns:\n",
    "        df['Sex'] = df['Sex'].map({'male': 0, 'female': 1})\n",
    "\n",
    "# Confirmação\n",
    "print(\"Pré-processamento concluído.\")\n"
   ]
  },
  {
   "cell_type": "code",
   "execution_count": 5,
   "id": "46c3c651",
   "metadata": {
    "execution": {
     "iopub.execute_input": "2025-06-12T12:38:03.555992Z",
     "iopub.status.busy": "2025-06-12T12:38:03.555617Z",
     "iopub.status.idle": "2025-06-12T12:38:03.575820Z",
     "shell.execute_reply": "2025-06-12T12:38:03.574354Z"
    },
    "id": "ee9a4486",
    "papermill": {
     "duration": 0.027114,
     "end_time": "2025-06-12T12:38:03.577592",
     "exception": false,
     "start_time": "2025-06-12T12:38:03.550478",
     "status": "completed"
    },
    "tags": []
   },
   "outputs": [
    {
     "name": "stdout",
     "output_type": "stream",
     "text": [
      "concluído\n"
     ]
    }
   ],
   "source": [
    "from sklearn.preprocessing import StandardScaler\n",
    "import pandas as pd\n",
    "\n",
    "# Corrigir features\n",
    "features = ['Pclass', 'Sex', 'Age', 'SibSp', 'Parch', 'Fare', 'FamilySize', 'Has_Cabin', 'Embarked']\n",
    "X = train[features]\n",
    "y = train['Survived']\n",
    "\n",
    "# Codificar variáveis categóricas\n",
    "X = pd.get_dummies(X, columns=['Sex', 'Embarked'], drop_first=True)\n",
    "\n",
    "# Normalização de colunas numéricas\n",
    "scaler = StandardScaler()\n",
    "X[['Age', 'Fare']] = scaler.fit_transform(X[['Age', 'Fare']])\n",
    "# Confirmação\n",
    "print(\"concluído\")\n"
   ]
  },
  {
   "cell_type": "code",
   "execution_count": 6,
   "id": "73db47cb",
   "metadata": {
    "execution": {
     "iopub.execute_input": "2025-06-12T12:38:03.587279Z",
     "iopub.status.busy": "2025-06-12T12:38:03.586889Z",
     "iopub.status.idle": "2025-06-12T12:38:04.767905Z",
     "shell.execute_reply": "2025-06-12T12:38:04.766435Z"
    },
    "id": "9218d30b",
    "outputId": "f3922b73-4119-405c-ff5b-28fbeaf261a4",
    "papermill": {
     "duration": 1.187949,
     "end_time": "2025-06-12T12:38:04.769705",
     "exception": false,
     "start_time": "2025-06-12T12:38:03.581756",
     "status": "completed"
    },
    "tags": []
   },
   "outputs": [
    {
     "name": "stdout",
     "output_type": "stream",
     "text": [
      "Acurácia média: 0.8025\n"
     ]
    }
   ],
   "source": [
    "import pandas as pd\n",
    "from sklearn.ensemble import RandomForestClassifier\n",
    "from sklearn.model_selection import cross_val_score\n",
    "\n",
    "# Supondo que X já foi definido corretamente\n",
    "X_encoded = pd.get_dummies(X)  # Codifica variáveis categóricas\n",
    "y = train['Survived']          # Variável alvo\n",
    "\n",
    "# Modelo\n",
    "model = RandomForestClassifier(random_state=42)\n",
    "model.fit(X_encoded, y)\n",
    "\n",
    "# Validação cruzada\n",
    "scores = cross_val_score(model, X_encoded, y, cv=5)\n",
    "print(f'Acurácia média: {scores.mean():.4f}')\n"
   ]
  },
  {
   "cell_type": "code",
   "execution_count": 7,
   "id": "df23a53e",
   "metadata": {
    "execution": {
     "iopub.execute_input": "2025-06-12T12:38:04.780716Z",
     "iopub.status.busy": "2025-06-12T12:38:04.780313Z",
     "iopub.status.idle": "2025-06-12T12:38:21.765120Z",
     "shell.execute_reply": "2025-06-12T12:38:21.764142Z"
    },
    "id": "59c0fb60",
    "outputId": "ca015b62-9d57-4071-c0a2-a7af31e1589f",
    "papermill": {
     "duration": 16.992776,
     "end_time": "2025-06-12T12:38:21.767002",
     "exception": false,
     "start_time": "2025-06-12T12:38:04.774226",
     "status": "completed"
    },
    "tags": []
   },
   "outputs": [
    {
     "name": "stdout",
     "output_type": "stream",
     "text": [
      "Fitting 5 folds for each of 24 candidates, totalling 120 fits\n",
      "Melhores parâmetros: {'max_depth': None, 'min_samples_leaf': 1, 'min_samples_split': 5, 'n_estimators': 100}\n",
      "Melhor acurácia: 0.8283\n"
     ]
    }
   ],
   "source": [
    "# Codificação das variáveis categóricas\n",
    "X_encoded = pd.get_dummies(X)\n",
    "y = train['Survived']\n",
    "\n",
    "# Modelo Random Forest\n",
    "model = RandomForestClassifier(random_state=42)\n",
    "\n",
    "# Definição dos hiperparâmetros para o grid search\n",
    "param_grid = {\n",
    "    'n_estimators': [100, 200],\n",
    "    'max_depth': [None, 10, 20],\n",
    "    'min_samples_split': [2, 5],\n",
    "    'min_samples_leaf': [1, 2]\n",
    "}\n",
    "\n",
    "# GridSearchCV com validação cruzada\n",
    "grid_search = GridSearchCV(model, param_grid, cv=5, n_jobs=-1, verbose=1)\n",
    "grid_search.fit(X_encoded, y)\n",
    "\n",
    "# Resultados\n",
    "print(f'Melhores parâmetros: {grid_search.best_params_}')\n",
    "print(f'Melhor acurácia: {grid_search.best_score_:.4f}')\n"
   ]
  },
  {
   "cell_type": "code",
   "execution_count": 8,
   "id": "1484ffb5",
   "metadata": {
    "execution": {
     "iopub.execute_input": "2025-06-12T12:38:21.777521Z",
     "iopub.status.busy": "2025-06-12T12:38:21.777028Z",
     "iopub.status.idle": "2025-06-12T12:38:29.641798Z",
     "shell.execute_reply": "2025-06-12T12:38:29.640685Z"
    },
    "id": "87d0ef8e",
    "outputId": "f1a1efb7-3b59-4396-8127-ab6188e0833c",
    "papermill": {
     "duration": 7.872282,
     "end_time": "2025-06-12T12:38:29.643631",
     "exception": false,
     "start_time": "2025-06-12T12:38:21.771349",
     "status": "completed"
    },
    "tags": []
   },
   "outputs": [
    {
     "name": "stdout",
     "output_type": "stream",
     "text": [
      "Fitting 5 folds for each of 6 candidates, totalling 30 fits\n"
     ]
    },
    {
     "data": {
      "text/html": [
       "<div>\n",
       "<style scoped>\n",
       "    .dataframe tbody tr th:only-of-type {\n",
       "        vertical-align: middle;\n",
       "    }\n",
       "\n",
       "    .dataframe tbody tr th {\n",
       "        vertical-align: top;\n",
       "    }\n",
       "\n",
       "    .dataframe thead th {\n",
       "        text-align: right;\n",
       "    }\n",
       "</style>\n",
       "<table border=\"1\" class=\"dataframe\">\n",
       "  <thead>\n",
       "    <tr style=\"text-align: right;\">\n",
       "      <th></th>\n",
       "      <th>PassengerId</th>\n",
       "      <th>Survived</th>\n",
       "    </tr>\n",
       "  </thead>\n",
       "  <tbody>\n",
       "    <tr>\n",
       "      <th>0</th>\n",
       "      <td>892</td>\n",
       "      <td>0</td>\n",
       "    </tr>\n",
       "    <tr>\n",
       "      <th>1</th>\n",
       "      <td>893</td>\n",
       "      <td>0</td>\n",
       "    </tr>\n",
       "    <tr>\n",
       "      <th>2</th>\n",
       "      <td>894</td>\n",
       "      <td>0</td>\n",
       "    </tr>\n",
       "    <tr>\n",
       "      <th>3</th>\n",
       "      <td>895</td>\n",
       "      <td>0</td>\n",
       "    </tr>\n",
       "    <tr>\n",
       "      <th>4</th>\n",
       "      <td>896</td>\n",
       "      <td>0</td>\n",
       "    </tr>\n",
       "  </tbody>\n",
       "</table>\n",
       "</div>"
      ],
      "text/plain": [
       "   PassengerId  Survived\n",
       "0          892         0\n",
       "1          893         0\n",
       "2          894         0\n",
       "3          895         0\n",
       "4          896         0"
      ]
     },
     "execution_count": 8,
     "metadata": {},
     "output_type": "execute_result"
    }
   ],
   "source": [
    "import pandas as pd\n",
    "from sklearn.ensemble import RandomForestClassifier\n",
    "from sklearn.model_selection import GridSearchCV\n",
    "from sklearn.impute import SimpleImputer\n",
    "\n",
    "# Separar variáveis e alvo\n",
    "X = train.drop(columns=['Survived', 'PassengerId'])\n",
    "y = train['Survived']\n",
    "\n",
    "X_test = test.drop(columns=['PassengerId'])\n",
    "\n",
    "# Separar colunas numéricas e categóricas\n",
    "num_cols = X.select_dtypes(include=['int64', 'float64']).columns\n",
    "cat_cols = X.select_dtypes(include=['object']).columns\n",
    "\n",
    "# Filtrar colunas numéricas que não sejam 100% NaN\n",
    "num_cols_filtered = [col for col in num_cols if X[col].notna().any()]\n",
    "\n",
    "# Imputar colunas numéricas com média\n",
    "imputer_num = SimpleImputer(strategy='mean')\n",
    "X_num = pd.DataFrame(imputer_num.fit_transform(X[num_cols_filtered]), columns=num_cols_filtered)\n",
    "X_test_num = pd.DataFrame(imputer_num.transform(X_test[num_cols_filtered]), columns=num_cols_filtered)\n",
    "\n",
    "# Imputar colunas categóricas com valor mais frequente\n",
    "imputer_cat = SimpleImputer(strategy='most_frequent')\n",
    "X_cat = pd.DataFrame(imputer_cat.fit_transform(X[cat_cols]), columns=cat_cols)\n",
    "X_test_cat = pd.DataFrame(imputer_cat.transform(X_test[cat_cols]), columns=cat_cols)\n",
    "\n",
    "# Concatenar numéricas e categóricas\n",
    "X_imputed = pd.concat([X_num, X_cat], axis=1)\n",
    "X_test_imputed = pd.concat([X_test_num, X_test_cat], axis=1)\n",
    "\n",
    "# One-hot encoding\n",
    "X_train_encoded = pd.get_dummies(X_imputed)\n",
    "X_test_encoded = pd.get_dummies(X_test_imputed)\n",
    "\n",
    "# Alinhar colunas do teste com as do treino\n",
    "X_test_encoded = X_test_encoded.reindex(columns=X_train_encoded.columns, fill_value=0)\n",
    "\n",
    "# Definir modelo e parâmetros para grid search\n",
    "model = RandomForestClassifier(random_state=42)\n",
    "param_grid = {\n",
    "    'n_estimators': [100, 200],\n",
    "    'max_depth': [5, 10, None]\n",
    "}\n",
    "\n",
    "# GridSearchCV\n",
    "grid_search = GridSearchCV(model, param_grid, cv=5, scoring='accuracy', n_jobs=-1, verbose=1)\n",
    "grid_search.fit(X_train_encoded, y)\n",
    "\n",
    "# Melhor modelo\n",
    "best_model = grid_search.best_estimator_\n",
    "\n",
    "# Previsões no conjunto de teste\n",
    "predictions = best_model.predict(X_test_encoded)\n",
    "\n",
    "# Criar arquivo de submissão\n",
    "submission = pd.DataFrame({\n",
    "    'PassengerId': test['PassengerId'],\n",
    "    'Survived': predictions\n",
    "})\n",
    "\n",
    "submission.to_csv('submission.csv', index=False)\n",
    "submission.head()\n"
   ]
  }
 ],
 "metadata": {
  "colab": {
   "provenance": []
  },
  "kaggle": {
   "accelerator": "none",
   "dataSources": [
    {
     "databundleVersionId": 26502,
     "sourceId": 3136,
     "sourceType": "competition"
    },
    {
     "datasetId": 7647455,
     "sourceId": 12142575,
     "sourceType": "datasetVersion"
    }
   ],
   "dockerImageVersionId": 31040,
   "isGpuEnabled": false,
   "isInternetEnabled": false,
   "language": "python",
   "sourceType": "notebook"
  },
  "kernelspec": {
   "display_name": "Python 3",
   "language": "python",
   "name": "python3"
  },
  "language_info": {
   "codemirror_mode": {
    "name": "ipython",
    "version": 3
   },
   "file_extension": ".py",
   "mimetype": "text/x-python",
   "name": "python",
   "nbconvert_exporter": "python",
   "pygments_lexer": "ipython3",
   "version": "3.11.11"
  },
  "papermill": {
   "default_parameters": {},
   "duration": 46.442463,
   "end_time": "2025-06-12T12:38:32.269468",
   "environment_variables": {},
   "exception": null,
   "input_path": "__notebook__.ipynb",
   "output_path": "__notebook__.ipynb",
   "parameters": {},
   "start_time": "2025-06-12T12:37:45.827005",
   "version": "2.6.0"
  }
 },
 "nbformat": 4,
 "nbformat_minor": 5
}
